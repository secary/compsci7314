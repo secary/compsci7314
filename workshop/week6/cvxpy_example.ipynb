{
 "cells": [
  {
   "cell_type": "markdown",
   "id": "8326951d",
   "metadata": {},
   "source": [
    "## CVXPY example: fitting linear regression\n",
    "\n",
    "In this example we fit linear regression, but put some constraints on W\n",
    "\n",
    " $$J( {\\textbf{W}})=||\\textbf{X}^T \\textbf{W} -  \\textbf{Y}||_2^2$$\n",
    " s. t. \n",
    " $$0 \\le W \\le 1$$"
   ]
  },
  {
   "cell_type": "code",
   "execution_count": null,
   "id": "00266e40",
   "metadata": {
    "scrolled": false
   },
   "outputs": [],
   "source": [
    "import cvxpy as cp\n",
    "import numpy as np\n",
    "\n",
    "zero_threshold = 0.0001\n",
    "\n",
    "# Problem data.\n",
    "m = 30; n = 20\n",
    "np.random.seed(1)\n",
    "X = np.random.randn(m, n)\n",
    "b = np.random.rand()\n",
    "Y = np.random.randn(m)\n",
    "# Construct the problem.\n",
    "W = cp.Variable(n)\n",
    "objective = cp.Minimize(cp.sum_squares((X @ W + b) - Y))\n",
    "constraints = [0 <= W, W <= 1]\n",
    "prob = cp.Problem(objective, constraints)\n",
    "\n",
    "# The optimal objective value is returned by `prob.solve()`.\n",
    "result = prob.solve()\n",
    "# the minimised cost is in result\n",
    "print(result)\n",
    "\n",
    "# The optimal value for w is stored in `W.value`.\n",
    "print(W.value)\n",
    "W.value[np.isclose(W.value, 0, atol=zero_threshold)] = 0 \n",
    "print(W.value)\n"
   ]
  },
  {
   "cell_type": "markdown",
   "id": "bd9c9289",
   "metadata": {},
   "source": [
    "#### Activity\n",
    "\n",
    "Once the above code is working, please replace \n",
    "`objective = cp.Minimize(cp.sum_squares((X @ W + b) - Y))`\n",
    "with equivalent form using the following CVXPY functions:\n",
    "cp.sum, cp.square, cp.matmul.\n",
    "\n",
    "Make sure you obtain the same results."
   ]
  }
 ],
 "metadata": {
  "kernelspec": {
   "display_name": "Python 3 (ipykernel)",
   "language": "python",
   "name": "python3"
  },
  "language_info": {
   "codemirror_mode": {
    "name": "ipython",
    "version": 3
   },
   "file_extension": ".py",
   "mimetype": "text/x-python",
   "name": "python",
   "nbconvert_exporter": "python",
   "pygments_lexer": "ipython3",
   "version": "3.11.5"
  }
 },
 "nbformat": 4,
 "nbformat_minor": 5
}
