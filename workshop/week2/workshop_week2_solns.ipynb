{
 "cells": [
  {
   "cell_type": "markdown",
   "id": "7d1b5950",
   "metadata": {},
   "source": [
    "# Workshop week 2 - Math Basics and Linear regression \n",
    "\n",
    "## Environment Setting\n",
    "\n",
    "Useful Tools for this course.\n",
    "\n",
    "### 1. Conda Environment\n",
    "\n",
    "\n",
    "### 2. Jupyter notebook\n",
    "\n",
    "\n",
    "### 3. Numpy\n",
    "\n",
    "\n",
    "### 4. Sckit-learn\n",
    "\n",
    "\n",
    "## Matrix Operations in Numpy\n",
    "\n"
   ]
  },
  {
   "cell_type": "markdown",
   "id": "2ab34cb4",
   "metadata": {},
   "source": [
    "\n",
    "Matrices are fundamental mathematical structures widely employed in various fields, including machine learning. They provide a concise and organized way to represent and process data. In the context of machine learning, matrices are used to represent datasets, where each row corresponds to an observation, and each column represents a feature or variable. Matrix operations, such as multiplication and transposition, play a crucial role in linear algebra, enabling transformations and manipulations of data. In linear regression, the relationship between features and target variables is expressed through matrix multiplication. Matrices are also integral to advanced techniques, such as principal component analysis (PCA) for dimensionality reduction and regularization methods (e.g., L1 and L2 regularization) to prevent overfitting in machine learning models. Understanding and manipulating matrices are foundational skills for effectively implementing and interpreting machine learning algorithms."
   ]
  },
  {
   "cell_type": "markdown",
   "id": "266b0271",
   "metadata": {},
   "source": [
    "## Matrix Operations in Python\n",
    "\n",
    "### 1. Matrix Addition:\n",
    "Matrix addition involves adding corresponding elements of two matrices. The result is a new matrix with the same dimensions as the input matrices. This operation is denoted by `C = A + B`, where `C_{ij} = A_{ij} + B_{ij}`.\n",
    "\n",
    "### 2. Matrix Subtraction:\n",
    "Similar to addition, matrix subtraction subtracts corresponding elements. If `C = A - B`, then `C_{ij} = A_{ij} - B_{ij}`.\n",
    "\n",
    "### 3. Scalar Multiplication:\n",
    "Scalar multiplication involves multiplying every element of a matrix by a scalar (a single number). If `C = k * A`, then `C_{ij} = k * A_{ij}`.\n",
    "\n",
    "### 4. Matrix Multiplication:\n",
    "Matrix multiplication is a more complex operation. The product of two matrices A and B, denoted by `C = A * B`, is computed by taking the dot product of each row of matrix A with each column of matrix B. The resulting matrix C has dimensions determined by the number of rows in A and number of columns in B. An important rule is that the number of columns in A must be equal to number of rows in B. </br>\n",
    "Therefore, given $A(k\\times m), B(m\\times n)$, then $C(k\\times n)$\n",
    "\n",
    "### 5. Matrix Transposition:\n",
    "Transposing a matrix involves swapping its rows with columns. If B is the transpose of A, then `B_{ij} = A_{ji}`.\n",
    "\n",
    "### 6. Matrix Inversion:\n",
    "Not all matrices are invertible, but if a matrix A is invertible, its inverse $A^{-1}$ satisfies $A * A^{-1} = A^{-1} * A = I$, where $I$ is the identity matrix.\n"
   ]
  },
  {
   "cell_type": "markdown",
   "id": "5f340901",
   "metadata": {},
   "source": [
    "### Activity 1: Matrix operations\n",
    "\n",
    "The pupose of this activity is to study how matrix operations can be done in Python. This will be useful throughout this course.\n",
    "    You can do all this manually without using `numpy` library, but in pracical situations we use `numpy`. There is also more than one way to do the same operation with `numpy`. \n",
    "\n",
    "Use `numpy` only to perform these operations. \n",
    "\n",
    "In order to perform math operations, it is good idea to convert them into numpy matrix format. After the conversion, you can use special symbols for some math operations:\n",
    "\n",
    "1. A + B for additoin\n",
    "2. C - B for subtraction\n",
    "3. A @ B for matrix multiplication\n",
    "4. A.T for inversion\n",
    "5. np.linalg.inv(A) for inversion\n",
    "\n",
    "Follow the instructions in each cell to perform the operations on matrices"
   ]
  },
  {
   "cell_type": "code",
   "execution_count": 1,
   "id": "77e89d71",
   "metadata": {},
   "outputs": [],
   "source": [
    "import numpy as np"
   ]
  },
  {
   "cell_type": "code",
   "execution_count": 2,
   "id": "185f2ff9",
   "metadata": {},
   "outputs": [
    {
     "name": "stdout",
     "output_type": "stream",
     "text": [
      "[[ 2 -3]\n",
      " [ 1  5]]\n"
     ]
    }
   ],
   "source": [
    "#Given matrices A and B, perform matrix addition to find matrix C.\n",
    "\n",
    "A = np.matrix([[2, -3],\n",
    "     [1, 5]])\n",
    "\n",
    "B = np.matrix([[-1, 4],\n",
    "     [0, 2]])\n",
    "\n",
    "C = A + B\n",
    "\n",
    "\n",
    "# verify that C - B = A\n",
    "\n",
    "print (C-B)"
   ]
  },
  {
   "cell_type": "code",
   "execution_count": 2,
   "id": "11903789",
   "metadata": {},
   "outputs": [
    {
     "name": "stdout",
     "output_type": "stream",
     "text": [
      "[[ -4 -10  13]\n",
      " [  1   8  -8]\n",
      " [  8   0  15]]\n",
      "[[ True False False]\n",
      " [False False False]\n",
      " [False False False]]\n"
     ]
    }
   ],
   "source": [
    "# Given two matrices, A and B, perform matrix multiplication to find matrix C.\n",
    "# check if A * B == B * A. \n",
    "# Should that be true or not? \n",
    "# Give 2 eamples when this is true.\n",
    "\n",
    "A = np.matrix([[2, -1, 3],\n",
    "     [0, 1, -2],\n",
    "     [4, 5, 1]])\n",
    "\n",
    "B = np.matrix([[-2, 1, 0],\n",
    "     [3, 0, 2],\n",
    "     [1, -4, 5]])\n",
    "\n",
    "print(A @ B)\n",
    "\n",
    "print(A@B==B@A)\n"
   ]
  },
  {
   "cell_type": "code",
   "execution_count": 3,
   "id": "2c0ad79b",
   "metadata": {},
   "outputs": [
    {
     "name": "stdout",
     "output_type": "stream",
     "text": [
      "[[ 3  1  0]\n",
      " [-2  7  4]\n",
      " [ 1  2 -5]]\n",
      "[[ True  True  True]\n",
      " [ True  True  True]\n",
      " [ True  True  True]]\n"
     ]
    }
   ],
   "source": [
    "# multiply the 3x3 matrix by 2x3 identity matrix (I).\n",
    "# verify that A * I = A = I * A\n",
    "\n",
    "A = np.matrix([[3, 1, 0],\n",
    "     [-2, 7, 4],\n",
    "     [1, 2, -5]])\n",
    "\n",
    "B = np.matrix([[1,  0,  0],\n",
    "               [0,  1,  0],\n",
    "               [0,  0,  1]])\n",
    "\n",
    "print(A @ B)\n",
    "print(A @ B==B @ A)"
   ]
  },
  {
   "cell_type": "code",
   "execution_count": 5,
   "id": "7c7257c5",
   "metadata": {},
   "outputs": [
    {
     "name": "stdout",
     "output_type": "stream",
     "text": [
      "[[1 4 7]\n",
      " [2 5 8]\n",
      " [3 6 9]]\n"
     ]
    }
   ],
   "source": [
    "#Find the transpose of the following matrix.\n",
    "\n",
    "A = np.matrix([[1, 2, 3],\n",
    "    [4, 5, 6],\n",
    "    [7, 8, 9]])\n",
    "\n",
    "print(A.T)"
   ]
  },
  {
   "cell_type": "code",
   "execution_count": 6,
   "id": "386b1dcc",
   "metadata": {},
   "outputs": [
    {
     "name": "stdout",
     "output_type": "stream",
     "text": [
      "Singular matrix, cannot inverse!\n"
     ]
    }
   ],
   "source": [
    "#Lastly, find the inverse matrix of the following matrix.\n",
    "# what result did you get. Why?\n",
    "\n",
    "A = np.matrix([[1, 2, 3],\n",
    "    [4, 5, 6],\n",
    "    [7, 8, 9]])\n",
    "\n",
    "if np.linalg.det(A)==0:\n",
    "    print(\"Singular matrix, cannot inverse!\")\n",
    "else:\n",
    "    print(np.linalg.inv(A))"
   ]
  },
  {
   "attachments": {
    "diabetes-symptoms-and-treatment.jpg": {
     "image/jpeg": "[encoded data removed]"
    }
   },
   "cell_type": "markdown",
   "id": "0a54f6b3",
   "metadata": {},
   "source": [
    "### Case Study 1 \n",
    "\n",
    "Let's examine a case study on Regression, specifically Diabetes.\n",
    "\n",
    "![diabetes-symptoms-and-treatment.jpg](attachment:diabetes-symptoms-and-treatment.jpg)"
   ]
  },
  {
   "cell_type": "code",
   "execution_count": 24,
   "id": "6c23ac5d",
   "metadata": {},
   "outputs": [],
   "source": [
    "# Import necessary libraries\n",
    "import numpy as np\n",
    "import matplotlib.pyplot as plt\n",
    "from sklearn import datasets, linear_model\n",
    "from sklearn.model_selection import train_test_split\n",
    "from sklearn.metrics import mean_squared_error, r2_score"
   ]
  },
  {
   "cell_type": "code",
   "execution_count": 26,
   "id": "b778a0f5",
   "metadata": {},
   "outputs": [
    {
     "name": "stdout",
     "output_type": "stream",
     "text": [
      "4420\n"
     ]
    }
   ],
   "source": [
    "# Load the dataset \n",
    "diabetes_X, diabetes_y = datasets.load_diabetes(as_frame=True, return_X_y=True)\n"
   ]
  },
  {
   "cell_type": "code",
   "execution_count": 17,
   "id": "11b65b76",
   "metadata": {},
   "outputs": [],
   "source": [
    "# Use only one feature for simplicity (you can choose a different feature)\n",
    "X = np.array(diabetes_X[[\"bmi\"]]).reshape(diabetes_X.shape[0],1)\n",
    "y = np.array(diabetes_y)"
   ]
  },
  {
   "cell_type": "code",
   "execution_count": 18,
   "id": "b206379d",
   "metadata": {},
   "outputs": [],
   "source": [
    "# Split the data into training and testing sets\n",
    "X_train, X_test, y_train, y_test = train_test_split(X, y, test_size=0.2, random_state=42)\n"
   ]
  },
  {
   "cell_type": "code",
   "execution_count": 19,
   "id": "27563342",
   "metadata": {},
   "outputs": [
    {
     "data": {
      "text/html": [
       "<style>#sk-container-id-2 {color: black;}#sk-container-id-2 pre{padding: 0;}#sk-container-id-2 div.sk-toggleable {background-color: white;}#sk-container-id-2 label.sk-toggleable__label {cursor: pointer;display: block;width: 100%;margin-bottom: 0;padding: 0.3em;box-sizing: border-box;text-align: center;}#sk-container-id-2 label.sk-toggleable__label-arrow:before {content: \"▸\";float: left;margin-right: 0.25em;color: #696969;}#sk-container-id-2 label.sk-toggleable__label-arrow:hover:before {color: black;}#sk-container-id-2 div.sk-estimator:hover label.sk-toggleable__label-arrow:before {color: black;}#sk-container-id-2 div.sk-toggleable__content {max-height: 0;max-width: 0;overflow: hidden;text-align: left;background-color: #f0f8ff;}#sk-container-id-2 div.sk-toggleable__content pre {margin: 0.2em;color: black;border-radius: 0.25em;background-color: #f0f8ff;}#sk-container-id-2 input.sk-toggleable__control:checked~div.sk-toggleable__content {max-height: 200px;max-width: 100%;overflow: auto;}#sk-container-id-2 input.sk-toggleable__control:checked~label.sk-toggleable__label-arrow:before {content: \"▾\";}#sk-container-id-2 div.sk-estimator input.sk-toggleable__control:checked~label.sk-toggleable__label {background-color: #d4ebff;}#sk-container-id-2 div.sk-label input.sk-toggleable__control:checked~label.sk-toggleable__label {background-color: #d4ebff;}#sk-container-id-2 input.sk-hidden--visually {border: 0;clip: rect(1px 1px 1px 1px);clip: rect(1px, 1px, 1px, 1px);height: 1px;margin: -1px;overflow: hidden;padding: 0;position: absolute;width: 1px;}#sk-container-id-2 div.sk-estimator {font-family: monospace;background-color: #f0f8ff;border: 1px dotted black;border-radius: 0.25em;box-sizing: border-box;margin-bottom: 0.5em;}#sk-container-id-2 div.sk-estimator:hover {background-color: #d4ebff;}#sk-container-id-2 div.sk-parallel-item::after {content: \"\";width: 100%;border-bottom: 1px solid gray;flex-grow: 1;}#sk-container-id-2 div.sk-label:hover label.sk-toggleable__label {background-color: #d4ebff;}#sk-container-id-2 div.sk-serial::before {content: \"\";position: absolute;border-left: 1px solid gray;box-sizing: border-box;top: 0;bottom: 0;left: 50%;z-index: 0;}#sk-container-id-2 div.sk-serial {display: flex;flex-direction: column;align-items: center;background-color: white;padding-right: 0.2em;padding-left: 0.2em;position: relative;}#sk-container-id-2 div.sk-item {position: relative;z-index: 1;}#sk-container-id-2 div.sk-parallel {display: flex;align-items: stretch;justify-content: center;background-color: white;position: relative;}#sk-container-id-2 div.sk-item::before, #sk-container-id-2 div.sk-parallel-item::before {content: \"\";position: absolute;border-left: 1px solid gray;box-sizing: border-box;top: 0;bottom: 0;left: 50%;z-index: -1;}#sk-container-id-2 div.sk-parallel-item {display: flex;flex-direction: column;z-index: 1;position: relative;background-color: white;}#sk-container-id-2 div.sk-parallel-item:first-child::after {align-self: flex-end;width: 50%;}#sk-container-id-2 div.sk-parallel-item:last-child::after {align-self: flex-start;width: 50%;}#sk-container-id-2 div.sk-parallel-item:only-child::after {width: 0;}#sk-container-id-2 div.sk-dashed-wrapped {border: 1px dashed gray;margin: 0 0.4em 0.5em 0.4em;box-sizing: border-box;padding-bottom: 0.4em;background-color: white;}#sk-container-id-2 div.sk-label label {font-family: monospace;font-weight: bold;display: inline-block;line-height: 1.2em;}#sk-container-id-2 div.sk-label-container {text-align: center;}#sk-container-id-2 div.sk-container {/* jupyter's `normalize.less` sets `[hidden] { display: none; }` but bootstrap.min.css set `[hidden] { display: none !important; }` so we also need the `!important` here to be able to override the default hidden behavior on the sphinx rendered scikit-learn.org. See: https://github.com/scikit-learn/scikit-learn/issues/21755 */display: inline-block !important;position: relative;}#sk-container-id-2 div.sk-text-repr-fallback {display: none;}</style><div id=\"sk-container-id-2\" class=\"sk-top-container\"><div class=\"sk-text-repr-fallback\"><pre>LinearRegression()</pre><b>In a Jupyter environment, please rerun this cell to show the HTML representation or trust the notebook. <br />On GitHub, the HTML representation is unable to render, please try loading this page with nbviewer.org.</b></div><div class=\"sk-container\" hidden><div class=\"sk-item\"><div class=\"sk-estimator sk-toggleable\"><input class=\"sk-toggleable__control sk-hidden--visually\" id=\"sk-estimator-id-2\" type=\"checkbox\" checked><label for=\"sk-estimator-id-2\" class=\"sk-toggleable__label sk-toggleable__label-arrow\">LinearRegression</label><div class=\"sk-toggleable__content\"><pre>LinearRegression()</pre></div></div></div></div></div>"
      ],
      "text/plain": [
       "LinearRegression()"
      ]
     },
     "execution_count": 19,
     "metadata": {},
     "output_type": "execute_result"
    }
   ],
   "source": [
    "# Create a linear regression model\n",
    "regr = linear_model.LinearRegression()\n",
    "\n",
    "# Train the model\n",
    "regr.fit(X_train, y_train)\n"
   ]
  },
  {
   "cell_type": "code",
   "execution_count": 20,
   "id": "fe0a6182",
   "metadata": {},
   "outputs": [],
   "source": [
    "# Make predictions on the test data\n",
    "y_pred = regr.predict(X_test)\n",
    "\n",
    "\n",
    "# Calculate metrics\n",
    "mse = mean_squared_error(y_test, y_pred)\n",
    "r2 = r2_score(y_test, y_pred)"
   ]
  },
  {
   "cell_type": "code",
   "execution_count": 21,
   "id": "8d1d8b06",
   "metadata": {},
   "outputs": [
    {
     "name": "stdout",
     "output_type": "stream",
     "text": [
      "Mean Squared Error: 4061.83\n",
      "R-squared: 0.23\n"
     ]
    },
    {
     "data": {
      "image/png": "[encoded data removed]",
      "text/plain": [
       "<Figure size 640x480 with 1 Axes>"
      ]
     },
     "metadata": {},
     "output_type": "display_data"
    }
   ],
   "source": [
    "\n",
    "# Print the metrics\n",
    "print(f\"Mean Squared Error: {mse:.2f}\")\n",
    "print(f\"R-squared: {r2:.2f}\")\n",
    "\n",
    "# Plot the regression line\n",
    "plt.scatter(X_test, y_test, color='black')\n",
    "plt.plot(X_test, y_pred, color='blue', linewidth=3)\n",
    "plt.xlabel(\"Feature\")\n",
    "plt.ylabel(\"Target\")\n",
    "plt.title(\"Linear Regression Example\")\n",
    "plt.show()"
   ]
  },
  {
   "cell_type": "markdown",
   "id": "a6e60f75",
   "metadata": {},
   "source": [
    "### Activity 2: Improving prediction\n",
    "\n",
    "Inspect the diabetes dataset (use pandas frame) to decide what other variables might improve the prediction results. You can use the plot as above to see which variables are \"most linear\".\n",
    "\n",
    "Include those variables and re-run the experiment. Did the results improve? Share your experience with the class.\n",
    "\n",
    "Based in input from all groups, choose the best set of variables and re-run the experiment again.\n"
   ]
  },
  {
   "cell_type": "code",
   "execution_count": 12,
   "id": "3928b2c2",
   "metadata": {},
   "outputs": [
    {
     "name": "stdout",
     "output_type": "stream",
     "text": [
      "Mean Squared Error: 3756.84\n",
      "R-squared: 0.29\n"
     ]
    }
   ],
   "source": [
    "# Use only one feature for simplicity (you can choose a different feature)\n",
    "var_list = [\"bmi\",\"age\", \"bp\"]\n",
    "X = np.array(diabetes_X[var_list]).reshape(diabetes_X.shape[0],len(var_list))\n",
    "y = np.array(diabetes_y)\n",
    "\n",
    "# Split the data into training and testing sets\n",
    "X_train, X_test, y_train, y_test = train_test_split(X, y, test_size=0.2, random_state=42)\n",
    "\n",
    "\n",
    "# Create a linear regression model\n",
    "regr = linear_model.LinearRegression()\n",
    "\n",
    "# Train the model\n",
    "regr.fit(X_train, y_train)\n",
    "\n",
    "# Make predictions on the test data\n",
    "y_pred = regr.predict(X_test)\n",
    "\n",
    "# Calculate metrics\n",
    "mse = mean_squared_error(y_test, y_pred)\n",
    "r2 = r2_score(y_test, y_pred)\n",
    "\n",
    "# Print the metrics\n",
    "print(f\"Mean Squared Error: {mse:.2f}\")\n",
    "print(f\"R-squared: {r2:.2f}\")\n"
   ]
  },
  {
   "cell_type": "markdown",
   "id": "b7289db3",
   "metadata": {},
   "source": [
    "### Activity 3: Implementing Gradient Descent for Linear Regression\n",
    "\n",
    "Use just \"bmi\" variable for this activity.\n",
    "\n",
    "Implement a simple gradient descent algorithm. Use the formulas given in lecture and the code template below. \n",
    "\n"
   ]
  },
  {
   "cell_type": "code",
   "execution_count": 22,
   "id": "2617122c",
   "metadata": {},
   "outputs": [],
   "source": [
    "def gradient_descent(w0, w1, X_train, y_train, X_test, y_test, lr, num_epoch):\n",
    "    for k in range(num_epoch):\n",
    "        sum_w0 = 0\n",
    "        sum_w1 = 0\n",
    "        J = 0\n",
    "        for i in range(0,m):\n",
    "            y_hat = w0+w1*X_train[i,0]\n",
    "            J = J + 1/(2*m) * (y_hat - y[i])**2\n",
    "            sum_w0 = sum_w0 - lr/m * (y_hat - y_train[i])\n",
    "            sum_w1 = sum_w1 - lr/m * (y_hat - y_train[i])*X_train[i,0]\n",
    "        w0 = w0 + sum_w0\n",
    "        w1 = w1 + sum_w1\n",
    "        Y_hat = w0+w1*X_train\n",
    "        Y_pred = w0+w1*X_test\n",
    "    \n",
    "    return w0, w1, Y_hat, Y_pred"
   ]
  },
  {
   "cell_type": "code",
   "execution_count": 23,
   "id": "2557c5c4",
   "metadata": {
    "scrolled": true
   },
   "outputs": [
    {
     "data": {
      "image/png": "[encoded data removed]",
      "text/plain": [
       "<Figure size 640x480 with 1 Axes>"
      ]
     },
     "metadata": {},
     "output_type": "display_data"
    }
   ],
   "source": [
    "# initialise w0 and w1 to a random number\n",
    "w0 = np.random.rand()\n",
    "w1 = np.random.rand()\n",
    "\n",
    "# Load the dataset \n",
    "diabetes_X, diabetes_y = datasets.load_diabetes(as_frame=True, return_X_y=True)\n",
    "\n",
    "# Use only one feature for simplicity (you can choose a different feature)\n",
    "X = np.array(diabetes_X[[\"bmi\"]]).reshape(diabetes_X.shape[0],1)\n",
    "y = np.array(diabetes_y)\n",
    "\n",
    "# Split the data into training and testing sets\n",
    "X_train, X_test, y_train, y_test = train_test_split(X, y, test_size=0.2, random_state=42)\n",
    "\n",
    "m = X_train.shape[0]\n",
    "lr = 0.5\n",
    "num_epoch = 20\n",
    "\n",
    "train_mse_list = []\n",
    "test_mse_list = []\n",
    "\n",
    "for n in range(100):\n",
    "    w0, w1, Y_hat, Y_pred = gradient_descent(w0, w1, X_train, y_train, X_test, y_test, lr, num_epoch)\n",
    "    \n",
    "    # Calculate metrics\n",
    "    train_mse = mean_squared_error(y_train, Y_hat)\n",
    "    train_r2 = r2_score(y_train, Y_hat)\n",
    "\n",
    "    test_mse = mean_squared_error(y_test, Y_pred)\n",
    "    test_r2 = r2_score(y_test, Y_pred)\n",
    "    \n",
    "    train_mse_list.append(train_mse)\n",
    "    test_mse_list.append(test_mse)\n",
    "#     print(train_mse, train_r2, test_mse, test_r2)\n",
    "    \n",
    "# option: make a plot of these metrics vs epochs\n",
    "# Plot the regression line\n",
    "plt.plot(range(0, 2000, 20), train_mse_list, color='red', linewidth=3)\n",
    "plt.plot(range(0, 2000, 20), test_mse_list, color='blue', linewidth=3)\n",
    "plt.xlabel(\"epochs\")\n",
    "plt.ylabel(\"test mse\")\n",
    "plt.title(\"Train mse vs test mse\")\n",
    "plt.show()\n"
   ]
  },
  {
   "cell_type": "markdown",
   "id": "617b5750",
   "metadata": {},
   "source": [
    "### Activity 4: Experimenting with Learning Rate\n",
    "\n",
    "Once you have established the best number of epochs to train the model, now you can choose an optimal learning rate.\n",
    "Ideally we would do this together, using e.g. a grid search, but for simplicity, we just fix the number of epochs.\n",
    "\n",
    "Use the above procedure, but fix the number of epochs to optimal and change the Learning Rate in the range 0.0 to 1 every 0.05\n",
    "\n",
    "Answer the following questions:\n",
    "1. How much you managed to improve the results by optimising the Learning Rate?\n",
    "2. How the results compare with the sklearn Linear Regression model that you completed in Activity 2? Try to think why.\n"
   ]
  },
  {
   "cell_type": "code",
   "execution_count": null,
   "id": "b34e6e0f",
   "metadata": {},
   "outputs": [],
   "source": []
  }
 ],
 "metadata": {
  "kernelspec": {
   "display_name": "Python 3 (ipykernel)",
   "language": "python",
   "name": "python3"
  },
  "language_info": {
   "codemirror_mode": {
    "name": "ipython",
    "version": 3
   },
   "file_extension": ".py",
   "mimetype": "text/x-python",
   "name": "python",
   "nbconvert_exporter": "python",
   "pygments_lexer": "ipython3",
   "version": "3.11.5"
  }
 },
 "nbformat": 4,
 "nbformat_minor": 5
}
