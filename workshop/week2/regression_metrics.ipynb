{
 "cells": [
  {
   "cell_type": "code",
   "execution_count": null,
   "id": "e26a7d97",
   "metadata": {},
   "outputs": [],
   "source": [
    "import numpy as np\n",
    "import pandas as pd \n",
    "\n",
    "def mean_absolute_error(true, pred):\n",
    "    abs_error = np.abs(true - pred)\n",
    "    sum_abs_error = np.sum(abs_error)\n",
    "    mae_loss = sum_abs_error / true.size\n",
    "    return mae_loss\n",
    "\t\n",
    "def relative_absolute_error(true, pred):\n",
    "    true_mean = np.mean(true)\n",
    "    squared_error_num = np.sum(np.abs(true - pred))\n",
    "    squared_error_den = np.sum(np.abs(true - true_mean))\n",
    "    rae_loss = squared_error_num / squared_error_den\n",
    "    return rae_loss\n",
    "\t\n",
    "def mean_squared_error(true, pred):\n",
    "    # your implementation here\n",
    "    return mse_loss\n",
    "\n",
    "\t\n",
    "def root_mean_squared_error(true, pred):\n",
    "    # your implementation here\n",
    "    return rmse_loss\n",
    "\n",
    "def relative_squared_error(true, pred):\n",
    "    # your implementation here\n",
    "    return rse_loss\n",
    "\n",
    "def r2(true, pred):\n",
    "    # your implementation here\n",
    "    return r2_loss\n",
    "\n",
    "\n",
    "house_prices = pd.read_csv(\"Housing_tests.csv\")\n",
    "\n",
    "prices = house_prices[\"price\"]\n",
    "pred1 = house_prices[\"pred1\"]\n",
    "\n",
    "print(\"mean_absolute_error \"+str(mean_absolute_error(prices,pred1)))\n",
    "print(\"relative_absolute_error \"+str(relative_absolute_error(prices,pred1)))\n",
    "print(\"mean_squared_error \"+str(mean_squared_error(prices,pred1)))\n",
    "print(\"root_mean_squared_error \"+str(np.round(root_mean_squared_error(prices,pred1),0)))\n",
    "print(\"relative_squared_error \"+str(np.round(relative_squared_error(prices,pred1),2)))"
   ]
  }
 ],
 "metadata": {
  "kernelspec": {
   "display_name": "Python 3 (ipykernel)",
   "language": "python",
   "name": "python3"
  },
  "language_info": {
   "codemirror_mode": {
    "name": "ipython",
    "version": 3
   },
   "file_extension": ".py",
   "mimetype": "text/x-python",
   "name": "python",
   "nbconvert_exporter": "python",
   "pygments_lexer": "ipython3",
   "version": "3.11.5"
  }
 },
 "nbformat": 4,
 "nbformat_minor": 5
}
