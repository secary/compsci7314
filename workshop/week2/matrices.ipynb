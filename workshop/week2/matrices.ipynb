{
 "cells": [
  {
   "cell_type": "markdown",
   "metadata": {},
   "source": [
    "# Workshop 1 - Environment Setting & Matrix Operations\n",
    "\n"
   ]
  },
  {
   "cell_type": "markdown",
   "metadata": {},
   "source": [
    "## 1. Environment Setting\n",
    "\n",
    "Useful Tools for this course.\n",
    "\n",
    "#### 1. Conda Environment\n",
    "\n",
    "\n",
    "#### 2. Jupyter notebook\n",
    "\n",
    "\n",
    "#### 3. Numpy\n",
    "\n",
    "\n",
    "#### 4. Sckit-learn\n",
    "\n",
    "\n"
   ]
  },
  {
   "cell_type": "code",
   "execution_count": 1,
   "metadata": {},
   "outputs": [],
   "source": [
    "import numpy as np"
   ]
  },
  {
   "cell_type": "markdown",
   "metadata": {},
   "source": [
    "## 2. Vector and Matrix Initializations\n",
    "\n",
    "Just run these cells, and pay attention to shapes of arrays and reshape function. <br>\n",
    "Notice the shape (n,) which is different than (n,1)"
   ]
  },
  {
   "cell_type": "code",
   "execution_count": 19,
   "metadata": {},
   "outputs": [
    {
     "name": "stdout",
     "output_type": "stream",
     "text": [
      "a_3_: (3,) [1 2 3]\n",
      "b_12_: (12,) [ 0  1  2  3  4  5  6  7  8  9 10 11]\n",
      "b_1_12: (1, 12) [[ 0  1  2  3  4  5  6  7  8  9 10 11]]\n",
      "b_12_1: (12, 1) \n",
      " [[ 0]\n",
      " [ 1]\n",
      " [ 2]\n",
      " [ 3]\n",
      " [ 4]\n",
      " [ 5]\n",
      " [ 6]\n",
      " [ 7]\n",
      " [ 8]\n",
      " [ 9]\n",
      " [10]\n",
      " [11]]\n"
     ]
    }
   ],
   "source": [
    "# vector\n",
    "a_3_ = np.array([1,2,3]) \n",
    "print(\"a_3_:\", a_3_.shape, a_3_)\n",
    "b_12_ = np.arange(12)\n",
    "print(\"b_12_:\",b_12_.shape, b_12_)\n",
    "\n",
    "b_1_12 = b_12_.reshape(1,12)\n",
    "print(\"b_1_12:\",b_1_12.shape, b_1_12)\n",
    "\n",
    "b_12_1 = b_12_.reshape(12,1)\n",
    "print(\"b_12_1:\",b_12_1.shape, '\\n', b_12_1)"
   ]
  },
  {
   "cell_type": "code",
   "execution_count": 9,
   "metadata": {},
   "outputs": [
    {
     "name": "stdout",
     "output_type": "stream",
     "text": [
      "c_2_2: (2, 2) \n",
      " [[1 2]\n",
      " [3 4]]\n",
      "b_3_4: (3, 4) \n",
      " [[ 0  1  2  3]\n",
      " [ 4  5  6  7]\n",
      " [ 8  9 10 11]]\n"
     ]
    }
   ],
   "source": [
    "# matrix\n",
    "c_2_2 = np.array([[1, 2], [3, 4]])\n",
    "print(\"c_2_2:\", c_2_2.shape, '\\n', c_2_2)\n",
    "\n",
    "b_3_4 = np.arange(12).reshape(3,4)\n",
    "print(\"b_3_4:\", b_3_4.shape, '\\n', b_3_4)\n"
   ]
  },
  {
   "cell_type": "markdown",
   "metadata": {},
   "source": [
    "### 2a. Other matrix types and initialisation methods"
   ]
  },
  {
   "cell_type": "code",
   "execution_count": 4,
   "metadata": {},
   "outputs": [
    {
     "name": "stdout",
     "output_type": "stream",
     "text": [
      "a:\n",
      "[0. 0. 0. 0. 0.]\n",
      "b:\n",
      "[0 0 0 0 0]\n",
      "c:\n",
      "[[0. 0.]\n",
      " [0. 0.]\n",
      " [0. 0.]]\n"
     ]
    }
   ],
   "source": [
    "# zero vector and matrix\n",
    "a = np.zeros(5)\n",
    "b = np.zeros(5, dtype=int)\n",
    "c = np.zeros((3,2))\n",
    "print(\"a:\")\n",
    "print(a)\n",
    "print(\"b:\")\n",
    "print(b)\n",
    "print(\"c:\")\n",
    "print(c)"
   ]
  },
  {
   "cell_type": "code",
   "execution_count": 5,
   "metadata": {},
   "outputs": [
    {
     "name": "stdout",
     "output_type": "stream",
     "text": [
      "a:\n",
      "[1. 1. 1. 1. 1.]\n",
      "b:\n",
      "[1 1 1 1 1]\n",
      "c:\n",
      "[[1. 1.]\n",
      " [1. 1.]\n",
      " [1. 1.]]\n"
     ]
    }
   ],
   "source": [
    "# One vector and matrix\n",
    "a = np.ones(5)\n",
    "b = np.ones(5, dtype=int)\n",
    "c = np.ones((3,2))\n",
    "print(\"a:\")\n",
    "print(a)\n",
    "print(\"b:\")\n",
    "print(b)\n",
    "print(\"c:\")\n",
    "print(c)"
   ]
  },
  {
   "cell_type": "code",
   "execution_count": 6,
   "metadata": {},
   "outputs": [
    {
     "name": "stdout",
     "output_type": "stream",
     "text": [
      "a:\n",
      "[[0.29926207 0.87953573]\n",
      " [0.64987273 0.33211021]\n",
      " [0.9642428  0.71753377]]\n"
     ]
    }
   ],
   "source": [
    "# random matrix\n",
    "a = np.random.rand(3,2)\n",
    "print(\"a:\")\n",
    "print(a)"
   ]
  },
  {
   "cell_type": "code",
   "execution_count": 7,
   "metadata": {},
   "outputs": [
    {
     "name": "stdout",
     "output_type": "stream",
     "text": [
      "a:\n",
      "[0 1 2]\n",
      "diag a:\n",
      "[[0 0 0]\n",
      " [0 1 0]\n",
      " [0 0 2]]\n",
      "a:\n",
      "[[2 0 0]\n",
      " [0 3 0]\n",
      " [0 0 4]]\n",
      "diag a:\n",
      "[2 3 4]\n",
      "scalar matrix:\n",
      "[[1 0 0]\n",
      " [0 1 0]\n",
      " [0 0 1]]\n",
      "rectangular diagonal matrix:\n",
      "[[1. 0. 0.]\n",
      " [0. 1. 0.]]\n",
      "diag value\n",
      "[1. 1.]\n"
     ]
    }
   ],
   "source": [
    "# Diagonal matrix\n",
    "a = np.arange(3)\n",
    "print(\"a:\")\n",
    "print(a)\n",
    "a = np.diag(a)\n",
    "print(\"diag a:\")\n",
    "print(a)\n",
    "a = np.diag((2,3,4))\n",
    "print(\"a:\")\n",
    "print(a)\n",
    "a = np.diag(a)\n",
    "print(\"diag a:\")\n",
    "print(a)\n",
    "b = np.eye(3, dtype=int) # scalar matrix\n",
    "print(\"scalar matrix:\")\n",
    "print(b)\n",
    "b = np.eye(2,3)\n",
    "print(\"rectangular diagonal matrix:\")\n",
    "print(b)\n",
    "b = np.diag(b)\n",
    "print(\"diag value\")\n",
    "print(b)"
   ]
  },
  {
   "cell_type": "markdown",
   "metadata": {},
   "source": [
    "## 3 Multiplication, Transpose and Inverse\n",
    "\n",
    "Pay attention to different types of multiplications. <br>\n",
    "\n",
    "Here is a nice summary: <br>\n",
    "\n",
    "- \" * \" == np.multiply != np.dot != np.matmul == @\n",
    "- \" * \" and np.multiply need np.sum to perform dot product. Not recommended for dot product or matrix multiplication.\n",
    "- np.dot works for dot product and matrix multiplication. However, recommended to avoid using it for matrix multiplication due to the name.\n",
    "- np.matmul and @ are the same thing, designed to perform matrix multiplication. @ is added to Python 3.5+ to give matrix multiplication its own infix.\n",
    "- np.dot and np.matmul generally behave similarly other than 2 exceptions: 1) matmul doesn’t allow multiplication by scalar, 2) the calculation is done differently for N>2 dimesion. Check the documentation which one you intend to use.\n",
    "\n",
    "[numpy matmul doc](https://numpy.org/doc/stable/reference/generated/numpy.matmul.html) <br>\n",
    "https://mkang32.github.io/python/2020/08/30/numpy-matmul.html#:~:text=matmul%20and%20%40%20are%20the%20same,designed%20to%20perform%20matrix%20multiplication.\n"
   ]
  },
  {
   "cell_type": "code",
   "execution_count": 35,
   "metadata": {},
   "outputs": [
    {
     "name": "stdout",
     "output_type": "stream",
     "text": [
      "a matmul b:  [[ 14  38  62]\n",
      " [ 38 126 214]\n",
      " [ 62 214 366]]\n",
      "a matmul b:  [[ 14  38  62]\n",
      " [ 38 126 214]\n",
      " [ 62 214 366]]\n",
      "a matmul b:  [[ 14  38  62]\n",
      " [ 38 126 214]\n",
      " [ 62 214 366]]\n",
      "a multiply b:  [[  0   1   4   9]\n",
      " [ 16  25  36  49]\n",
      " [ 64  81 100 121]]\n",
      "a multiply b:  [[  0   1   4   9]\n",
      " [ 16  25  36  49]\n",
      " [ 64  81 100 121]]\n"
     ]
    }
   ],
   "source": [
    "\n",
    "c_matmul = np.matmul(b_3_4,b_3_4.T)\n",
    "print(\"a matmul b: \", c_matmul)\n",
    "\n",
    "c_matmul1 = b_3_4 @ b_3_4.T\n",
    "print(\"a matmul b: \", c_matmul1)\n",
    "\n",
    "c_dot = np.dot(b_3_4,b_3_4.T)\n",
    "print(\"a matmul b: \", c_dot)\n",
    "\n",
    "c_mult = np.multiply(b_3_4,b_3_4)\n",
    "print(\"a multiply b: \", c_mult)\n",
    "\n",
    "c_mult1 = b_3_4 * b_3_4\n",
    "print(\"a multiply b: \", c_mult1)"
   ]
  },
  {
   "cell_type": "markdown",
   "metadata": {},
   "source": [
    "### 3a. Verification: $AI = A$\n",
    "\n",
    "Please make a code which multiplies matrix A by its identity to verify that you get the same matrix A.\n",
    "What if A is not square? Check if AI and IA is the same for non-square matrix. Remember that $$I_mA = AI_n$$ where A is (m x n) matrix, which means the identity matrix must be a square matrix (m x m) in the first case, and (n x n) in the second."
   ]
  },
  {
   "cell_type": "code",
   "execution_count": 40,
   "metadata": {},
   "outputs": [
    {
     "name": "stdout",
     "output_type": "stream",
     "text": [
      "a:\n",
      "[[0 1 2]\n",
      " [3 4 5]]\n",
      "identity matrix:\n",
      "[[1 0 0]\n",
      " [0 1 0]\n",
      " [0 0 1]]\n",
      "a multiply identity matrix\n",
      "[[0 1 2]\n",
      " [3 4 5]]\n",
      "i multiply by a matrix\n",
      "[[0 1 2]\n",
      " [3 4 5]]\n"
     ]
    }
   ],
   "source": [
    "a = np.arange(6).reshape(2, 3)\n",
    "print(\"a:\")\n",
    "print(a)\n",
    "i = np.eye(3, dtype=int)\n",
    "print(\"identity matrix:\")\n",
    "print(i)\n",
    "b = a @ i[:3,:3]\n",
    "print(\"a multiply identity matrix\")\n",
    "print(b)\n",
    "b = i[:2,:2] @ a\n",
    "print(\"i multiply by a matrix\")\n",
    "print(b)"
   ]
  },
  {
   "cell_type": "markdown",
   "metadata": {},
   "source": [
    "### 3b. Code the inverse of (2, 2) matrix \n",
    "\n",
    "Code inverse matrix manually using det A = ... equation)\n",
    "Then code using np.inv, and verify it is the same result"
   ]
  },
  {
   "cell_type": "code",
   "execution_count": 48,
   "metadata": {},
   "outputs": [
    {
     "name": "stdout",
     "output_type": "stream",
     "text": [
      "a:\n",
      "[[1 2]\n",
      " [3 4]]\n",
      "[[-2.   1. ]\n",
      " [ 1.5 -0.5]]\n",
      "[[-2.   1. ]\n",
      " [ 1.5 -0.5]]\n"
     ]
    }
   ],
   "source": [
    "a = np.array([[1, 2], [3, 4]])\n",
    "print(\"a:\")\n",
    "print(a)\n",
    "\n",
    "a_inv1 = 1/(a[0,0]*a[1,1]-a[0,1]*a[1,0]) * np.array([[a[1,1], -a[0,1]], [-a[1,0],a[0,0]]])\n",
    "print(a_inv1)\n",
    "\n",
    "a_inv2 = np.linalg.inv(a)\n",
    "print(a_inv2)\n"
   ]
  },
  {
   "cell_type": "markdown",
   "metadata": {},
   "source": [
    "### 3c. Verification: $AA^{-1}=I$\n",
    "\n",
    "Please code similar verification for inverse matrix"
   ]
  },
  {
   "cell_type": "code",
   "execution_count": 50,
   "metadata": {},
   "outputs": [
    {
     "name": "stdout",
     "output_type": "stream",
     "text": [
      "[[1 2]\n",
      " [3 4]] \n",
      " [[1. 0.]\n",
      " [0. 1.]]\n",
      "[[1 2]\n",
      " [3 4]] \n",
      " [[1.00000000e+00 1.11022302e-16]\n",
      " [0.00000000e+00 1.00000000e+00]]\n"
     ]
    }
   ],
   "source": [
    "print(a, '\\n', a @ a_inv1)\n",
    "print(a, '\\n', a @ a_inv2)\n"
   ]
  }
 ],
 "metadata": {
  "kernelspec": {
   "display_name": "Python 3 (ipykernel)",
   "language": "python",
   "name": "python3"
  },
  "language_info": {
   "codemirror_mode": {
    "name": "ipython",
    "version": 3
   },
   "file_extension": ".py",
   "mimetype": "text/x-python",
   "name": "python",
   "nbconvert_exporter": "python",
   "pygments_lexer": "ipython3",
   "version": "3.9.12"
  }
 },
 "nbformat": 4,
 "nbformat_minor": 2
}
